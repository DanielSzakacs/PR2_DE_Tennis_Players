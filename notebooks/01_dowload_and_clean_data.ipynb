{
 "cells": [
  {
   "cell_type": "markdown",
   "metadata": {},
   "source": [
    "# Download source data and clean data"
   ]
  },
  {
   "cell_type": "code",
   "execution_count": null,
   "metadata": {},
   "outputs": [
    {
     "data": {
      "text/plain": [
       "<module 'src.data.fetch_data' from 'c:\\\\Users\\\\admin\\\\Documents\\\\ML - Projects\\\\PR2_DE_Tennis_Players\\\\src\\\\data\\\\fetch_data.py'>"
      ]
     },
     "execution_count": 8,
     "metadata": {},
     "output_type": "execute_result"
    }
   ],
   "source": [
    "# Setup\n",
    "import os\n",
    "import sys\n",
    "import pandas as pd\n",
    "from importlib import reload\n",
    "\n",
    "# Add project root to PYTHONPATH\n",
    "project_root = os.path.abspath(os.path.join(os.getcwd(), \"..\"))\n",
    "if project_root not in sys.path:\n",
    "    sys.path.insert(0, project_root)\n",
    "\n",
    "from src.data import fetch_data\n",
    "from src.utils import data_utils\n",
    "\n",
    "reload(data_utils)\n",
    "reload(fetch_data)"
   ]
  },
  {
   "cell_type": "markdown",
   "metadata": {},
   "source": [
    "The raw data is available because I have already run the `download_atp_odds` and `download_atp` functions from `fetch_data.py`."
   ]
  },
  {
   "cell_type": "markdown",
   "metadata": {},
   "source": [
    "## Downalod data source"
   ]
  },
  {
   "cell_type": "code",
   "execution_count": 2,
   "metadata": {},
   "outputs": [
    {
     "name": "stdout",
     "output_type": "stream",
     "text": [
      "[INFO] Download ATP source data from 2000 to 2024\n",
      "[INFO] Data from year 2000 downloaded\n",
      "[INFO] Data from year 2001 downloaded\n",
      "[INFO] Data from year 2002 downloaded\n",
      "[INFO] Data from year 2003 downloaded\n",
      "[INFO] Data from year 2004 downloaded\n",
      "[INFO] Data from year 2005 downloaded\n",
      "[INFO] Data from year 2006 downloaded\n",
      "[INFO] Data from year 2007 downloaded\n",
      "[INFO] Data from year 2008 downloaded\n",
      "[INFO] Data from year 2009 downloaded\n",
      "[INFO] Data from year 2010 downloaded\n",
      "[INFO] Data from year 2011 downloaded\n",
      "[INFO] Data from year 2012 downloaded\n",
      "[INFO] Data from year 2013 downloaded\n",
      "[INFO] Data from year 2014 downloaded\n",
      "[INFO] Data from year 2015 downloaded\n",
      "[INFO] Data from year 2016 downloaded\n",
      "[INFO] Data from year 2017 downloaded\n",
      "[INFO] Data from year 2018 downloaded\n",
      "[INFO] Data from year 2019 downloaded\n",
      "[INFO] Data from year 2020 downloaded\n",
      "[INFO] Data from year 2021 downloaded\n",
      "[INFO] Data from year 2022 downloaded\n",
      "[INFO] Data from year 2023 downloaded\n",
      "[INFO] Data from year 2024 downloaded\n",
      "[INFO] Concat 25 of dataframes\n",
      "[INFO] Save merged dataframe. Length of dataframe: 74906\n"
     ]
    }
   ],
   "source": [
    "fetch_data.download_all_atp_raw_data()"
   ]
  },
  {
   "cell_type": "code",
   "execution_count": 5,
   "metadata": {},
   "outputs": [],
   "source": [
    "# Read the raw data\n",
    "df = pd.read_csv(\"../data_storage/raw/atp_men_2000_2024/all_from_2000_to_2024.csv\")\n",
    "# df = df.rename(columns={\"tourney_date\": \"date\", \"winner_name\": \"winner\", \"loser_name\": \"loser\"})"
   ]
  },
  {
   "cell_type": "markdown",
   "metadata": {},
   "source": [
    "## Handle missing values\n",
    "Logic which will manage the missing values are in the `src/utils/data_utils.py` file "
   ]
  },
  {
   "cell_type": "code",
   "execution_count": 6,
   "metadata": {},
   "outputs": [
    {
     "data": {
      "text/plain": [
       "Unnamed: 0                0\n",
       "tourney_id                0\n",
       "tourney_name              0\n",
       "surface                  53\n",
       "draw_size                 0\n",
       "tourney_level             0\n",
       "tourney_date              0\n",
       "match_num                 0\n",
       "winner_id                 0\n",
       "winner_seed           43786\n",
       "winner_entry          65400\n",
       "winner_name               0\n",
       "winner_hand               0\n",
       "winner_ht              1425\n",
       "winner_ioc                0\n",
       "winner_age                5\n",
       "loser_id                  0\n",
       "loser_seed            57668\n",
       "loser_entry           59484\n",
       "loser_name                0\n",
       "loser_hand                4\n",
       "loser_ht               2909\n",
       "loser_ioc                 0\n",
       "loser_age                 3\n",
       "score                     0\n",
       "best_of                   0\n",
       "round                     0\n",
       "minutes                8174\n",
       "w_ace                  6520\n",
       "w_df                   6520\n",
       "w_svpt                 6520\n",
       "w_1stIn                6520\n",
       "w_1stWon               6520\n",
       "w_2ndWon               6520\n",
       "w_SvGms                6520\n",
       "w_bpSaved              6520\n",
       "w_bpFaced              6520\n",
       "l_ace                  6520\n",
       "l_df                   6520\n",
       "l_svpt                 6520\n",
       "l_1stIn                6520\n",
       "l_1stWon               6520\n",
       "l_2ndWon               6520\n",
       "l_SvGms                6520\n",
       "l_bpSaved              6520\n",
       "l_bpFaced              6520\n",
       "winner_rank             573\n",
       "winner_rank_points      573\n",
       "loser_rank             1468\n",
       "loser_rank_points      1468\n",
       "dtype: int64"
      ]
     },
     "execution_count": 6,
     "metadata": {},
     "output_type": "execute_result"
    }
   ],
   "source": [
    "df.isna().sum()"
   ]
  },
  {
   "cell_type": "code",
   "execution_count": null,
   "metadata": {},
   "outputs": [
    {
     "name": "stdout",
     "output_type": "stream",
     "text": [
      "[INFO] Droping features Index(['winner_seed', 'winner_entry', 'loser_seed', 'loser_entry'], dtype='object')\n",
      "[INFO] Columns which will be filled with there median: Index(['unnamed: 0', 'draw_size', 'match_num', 'winner_id', 'winner_ht',\n",
      "       'winner_age', 'loser_id', 'loser_ht', 'loser_age', 'best_of', 'minutes',\n",
      "       'w_ace', 'w_df', 'w_svpt', 'w_1stin', 'w_1stwon', 'w_2ndwon', 'w_svgms',\n",
      "       'w_bpsaved', 'w_bpfaced', 'l_ace', 'l_df', 'l_svpt', 'l_1stin',\n",
      "       'l_1stwon', 'l_2ndwon', 'l_svgms', 'l_bpsaved', 'l_bpfaced',\n",
      "       'winner_rank', 'winner_rank_points', 'loser_rank', 'loser_rank_points',\n",
      "       'wsets', 'lsets', 'wrank'],\n",
      "      dtype='object')\n"
     ]
    },
    {
     "data": {
      "text/plain": [
       "winner_key     356\n",
       "loser_key      338\n",
       "lrank           24\n",
       "b365w         4464\n",
       "b365l         4461\n",
       "dtype: int64"
      ]
     },
     "execution_count": 18,
     "metadata": {},
     "output_type": "execute_result"
    }
   ],
   "source": [
    "# Drop the features if it's a rational reaches the threshold\n",
    "df = data_utils.drop_hight_na_columns(df=df)\n",
    "# Fill the missing values with there median if the ration is equal or lower then 3%\n",
    "df = data_utils.fill_na_median(df)\n",
    "\n",
    "# Print out the missing values\n",
    "df.isna().sum()[df.isna().sum() > 0]"
   ]
  },
  {
   "cell_type": "markdown",
   "metadata": {},
   "source": [
    "## Convert feature data types\n",
    "There are still missing values in the merged data, but that I will keep as it is so that I can have a closer look on them in the EDA file\n"
   ]
  },
  {
   "cell_type": "code",
   "execution_count": null,
   "metadata": {},
   "outputs": [
    {
     "name": "stdout",
     "output_type": "stream",
     "text": [
      "Data save into the interim folder for feather checks. Number of rows: 12598\n"
     ]
    }
   ],
   "source": [
    "df.to_csv(\"../data_storage/interim/interim_data.csv\", index=False)\n",
    "print(f\"Data save into the interim folder for feather checks. Number of rows: {len(df)}\")"
   ]
  },
  {
   "cell_type": "code",
   "execution_count": null,
   "metadata": {},
   "outputs": [],
   "source": []
  }
 ],
 "metadata": {
  "kernelspec": {
   "display_name": "venv",
   "language": "python",
   "name": "python3"
  },
  "language_info": {
   "codemirror_mode": {
    "name": "ipython",
    "version": 3
   },
   "file_extension": ".py",
   "mimetype": "text/x-python",
   "name": "python",
   "nbconvert_exporter": "python",
   "pygments_lexer": "ipython3",
   "version": "3.11.5"
  }
 },
 "nbformat": 4,
 "nbformat_minor": 2
}
