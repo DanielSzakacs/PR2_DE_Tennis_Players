{
 "cells": [
  {
   "cell_type": "markdown",
   "metadata": {},
   "source": [
    "# Download source data and clean data"
   ]
  },
  {
   "cell_type": "code",
   "execution_count": 6,
   "metadata": {},
   "outputs": [
    {
     "data": {
      "text/plain": [
       "<module 'src.data.fetch_data' from 'c:\\\\Users\\\\admin\\\\Documents\\\\ML - Projects\\\\PR2_DE_Tennis_Players\\\\src\\\\data\\\\fetch_data.py'>"
      ]
     },
     "execution_count": 6,
     "metadata": {},
     "output_type": "execute_result"
    }
   ],
   "source": [
    "# Setup\n",
    "import os\n",
    "import sys\n",
    "import pandas as pd\n",
    "from importlib import reload\n",
    "\n",
    "# Add project root to PYTHONPATH\n",
    "project_root = os.path.abspath(os.path.join(os.getcwd(), \"..\"))\n",
    "if project_root not in sys.path:\n",
    "    sys.path.insert(0, project_root)\n",
    "\n",
    "from src.data import fetch_data\n",
    "from src.utils import data_utils\n",
    "\n",
    "reload(data_utils)\n",
    "reload(fetch_data)"
   ]
  },
  {
   "cell_type": "markdown",
   "metadata": {},
   "source": [
    "The raw data is available because I have already run the `download_atp_odds` and `download_atp` functions from `fetch_data.py`."
   ]
  },
  {
   "cell_type": "markdown",
   "metadata": {},
   "source": [
    "## Downalod data source"
   ]
  },
  {
   "cell_type": "code",
   "execution_count": 7,
   "metadata": {},
   "outputs": [
    {
     "name": "stdout",
     "output_type": "stream",
     "text": [
      "[INFO] Download ATP source data from 2000 to 2024\n",
      "[INFO] Data from year 2000 downloaded\n",
      "[INFO] Data from year 2001 downloaded\n",
      "[INFO] Data from year 2002 downloaded\n",
      "[INFO] Data from year 2003 downloaded\n",
      "[INFO] Data from year 2004 downloaded\n",
      "[INFO] Data from year 2005 downloaded\n",
      "[INFO] Data from year 2006 downloaded\n",
      "[INFO] Data from year 2007 downloaded\n",
      "[INFO] Data from year 2008 downloaded\n",
      "[INFO] Data from year 2009 downloaded\n",
      "[INFO] Data from year 2010 downloaded\n",
      "[INFO] Data from year 2011 downloaded\n",
      "[INFO] Data from year 2012 downloaded\n",
      "[INFO] Data from year 2013 downloaded\n",
      "[INFO] Data from year 2014 downloaded\n",
      "[INFO] Data from year 2015 downloaded\n",
      "[INFO] Data from year 2016 downloaded\n",
      "[INFO] Data from year 2017 downloaded\n",
      "[INFO] Data from year 2018 downloaded\n",
      "[INFO] Data from year 2019 downloaded\n",
      "[INFO] Data from year 2020 downloaded\n",
      "[INFO] Data from year 2021 downloaded\n",
      "[INFO] Data from year 2022 downloaded\n",
      "[INFO] Data from year 2023 downloaded\n",
      "[INFO] Data from year 2024 downloaded\n",
      "[INFO] Concat 25 of dataframes\n",
      "[INFO] Save merged dataframe. Length of dataframe: 74906\n"
     ]
    }
   ],
   "source": [
    "fetch_data.download_all_atp_raw_data()"
   ]
  },
  {
   "cell_type": "code",
   "execution_count": 8,
   "metadata": {},
   "outputs": [],
   "source": [
    "# Read the raw data\n",
    "df = pd.read_csv(\"../data_storage/raw/atp_men_2000_2024/all_from_2000_to_2024.csv\")"
   ]
  },
  {
   "cell_type": "markdown",
   "metadata": {},
   "source": [
    "## Handle missing values\n",
    "Logic which will manage the missing values are in the `src/utils/data_utils.py` file "
   ]
  },
  {
   "cell_type": "code",
   "execution_count": null,
   "metadata": {},
   "outputs": [
    {
     "name": "stdout",
     "output_type": "stream",
     "text": [
      "[INFO] Threshold: 0.3\n",
      "[INFO] Droping features Index(['winner_seed', 'winner_entry', 'loser_seed', 'loser_entry'], dtype='object')\n",
      "[INFO] Columns which will be filled with there median: Index(['Unnamed: 0', 'draw_size', 'tourney_date', 'match_num', 'winner_id',\n",
      "       'winner_ht', 'winner_age', 'loser_id', 'loser_ht', 'loser_age',\n",
      "       'best_of', 'minutes', 'w_ace', 'w_df', 'w_svpt', 'w_1stIn', 'w_1stWon',\n",
      "       'w_2ndWon', 'w_SvGms', 'w_bpSaved', 'w_bpFaced', 'l_ace', 'l_df',\n",
      "       'l_svpt', 'l_1stIn', 'l_1stWon', 'l_2ndWon', 'l_SvGms', 'l_bpSaved',\n",
      "       'l_bpFaced', 'winner_rank', 'winner_rank_points', 'loser_rank',\n",
      "       'loser_rank_points'],\n",
      "      dtype='object')\n"
     ]
    },
    {
     "data": {
      "text/plain": [
       "surface       53\n",
       "loser_hand     4\n",
       "dtype: int64"
      ]
     },
     "execution_count": 9,
     "metadata": {},
     "output_type": "execute_result"
    }
   ],
   "source": [
    "# Drop the features if it's a rational reaches the threshold\n",
    "df = data_utils.drop_hight_na_columns(df=df, threshold=0.3)\n",
    "# Fill the missing values with there median if the ration is equal or lower then 3%\n",
    "df = data_utils.fill_na_median(df)\n",
    "\n",
    "# Print out the missing values\n",
    "df.isna().sum()[df.isna().sum() > 0]"
   ]
  },
  {
   "cell_type": "markdown",
   "metadata": {},
   "source": [
    "## Convert feature data types\n",
    "There are still missing values in the merged data, but that I will keep as it is so that I can have a closer look on them in the EDA file\n"
   ]
  },
  {
   "cell_type": "code",
   "execution_count": 10,
   "metadata": {},
   "outputs": [
    {
     "name": "stdout",
     "output_type": "stream",
     "text": [
      "Data save into the interim folder for feather checks. Number of rows: 74906\n"
     ]
    }
   ],
   "source": [
    "df.to_csv(\"../data_storage/interim/atp_interim_data.csv\", index=False)\n",
    "print(f\"Data save into the interim folder for feather checks. Number of rows: {len(df)}\")"
   ]
  },
  {
   "cell_type": "code",
   "execution_count": null,
   "metadata": {},
   "outputs": [],
   "source": []
  }
 ],
 "metadata": {
  "kernelspec": {
   "display_name": "venv",
   "language": "python",
   "name": "python3"
  },
  "language_info": {
   "codemirror_mode": {
    "name": "ipython",
    "version": 3
   },
   "file_extension": ".py",
   "mimetype": "text/x-python",
   "name": "python",
   "nbconvert_exporter": "python",
   "pygments_lexer": "ipython3",
   "version": "3.11.5"
  }
 },
 "nbformat": 4,
 "nbformat_minor": 2
}
