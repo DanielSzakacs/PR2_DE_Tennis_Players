{
 "cells": [
  {
   "cell_type": "markdown",
   "metadata": {},
   "source": [
    "# Tennis players"
   ]
  },
  {
   "cell_type": "code",
   "execution_count": 178,
   "metadata": {},
   "outputs": [],
   "source": [
    "# Import \n",
    "import pandas as pd \n",
    "import os \n",
    "import sys\n",
    "\n",
    "sys.path.append(os.path.abspath(\"..\"))"
   ]
  },
  {
   "cell_type": "code",
   "execution_count": 179,
   "metadata": {},
   "outputs": [
    {
     "name": "stderr",
     "output_type": "stream",
     "text": [
      "C:\\Users\\admin\\AppData\\Local\\Temp\\ipykernel_19132\\2094137158.py:3: DtypeWarning: Columns (12,15,16,17,18,38) have mixed types. Specify dtype option on import or set low_memory=False.\n",
      "  odds_df = pd.read_csv(\"../data/raw/atp_odds_2001_2024/all_from_2001_to_2024.csv\")\n"
     ]
    }
   ],
   "source": [
    "# Check data \n",
    "atp_df = pd.read_csv(\"../data/raw/atp_men_2000_2024/all_from_2000_to_2024.csv\")\n",
    "odds_df = pd.read_csv(\"../data/raw/atp_odds_2001_2024/all_from_2001_to_2024.csv\")\n",
    "\n",
    "atp_df = atp_df.rename(columns={\"tourney_date\": \"date\", \"winner_name\": \"winner\", \"loser_name\": \"loser\"})\n",
    "odds_df = odds_df.rename(columns={\"Date\": \"date\", \"Winner\": \"winner\", \"Loser\": \"loser\"})"
   ]
  },
  {
   "cell_type": "markdown",
   "metadata": {},
   "source": [
    "## Merge atp players data with there odds data "
   ]
  },
  {
   "cell_type": "code",
   "execution_count": 185,
   "metadata": {},
   "outputs": [
    {
     "name": "stderr",
     "output_type": "stream",
     "text": [
      "Merge players data with there match odds: 100%|██████████| 63739/63739 [00:03<00:00, 18330.78it/s]\n"
     ]
    },
    {
     "name": "stdout",
     "output_type": "stream",
     "text": [
      "Save merged tennis players stats\n"
     ]
    }
   ],
   "source": [
    "from scripts import merge_players_data\n",
    "from importlib import reload\n",
    "reload(merge_players_data)\n",
    "\n",
    "merged = merge_players_data.merge_on_name_and_date(atp_df, odds_df)\n",
    "merged.to_csv(\"../data/raw/merged_data/merge_data.csv\", index=False)\n",
    "print(\"Save merged tennis players stats\")\n"
   ]
  },
  {
   "cell_type": "code",
   "execution_count": 187,
   "metadata": {},
   "outputs": [
    {
     "name": "stdout",
     "output_type": "stream",
     "text": [
      "<class 'pandas.core.frame.DataFrame'>\n",
      "RangeIndex: 74906 entries, 0 to 74905\n",
      "Columns: 105 entries, unnamed: 0 to avgl\n",
      "dtypes: datetime64[ns](1), float64(67), int64(6), object(31)\n",
      "memory usage: 60.0+ MB\n"
     ]
    }
   ],
   "source": [
    "merged.info()"
   ]
  },
  {
   "cell_type": "markdown",
   "metadata": {},
   "source": [
    "## Remove the features which we wont use in the future"
   ]
  },
  {
   "cell_type": "markdown",
   "metadata": {},
   "source": [
    "## Handle missing values\n",
    "Remove or fill out with median"
   ]
  },
  {
   "cell_type": "markdown",
   "metadata": {},
   "source": [
    "## Convert feature data types\n",
    "We will convert numerical and date columns to appropriate types using pd.to_numeric and pd.to_datetime.\n",
    "\n"
   ]
  },
  {
   "cell_type": "code",
   "execution_count": null,
   "metadata": {},
   "outputs": [],
   "source": []
  }
 ],
 "metadata": {
  "kernelspec": {
   "display_name": "venv",
   "language": "python",
   "name": "python3"
  },
  "language_info": {
   "codemirror_mode": {
    "name": "ipython",
    "version": 3
   },
   "file_extension": ".py",
   "mimetype": "text/x-python",
   "name": "python",
   "nbconvert_exporter": "python",
   "pygments_lexer": "ipython3",
   "version": "3.11.5"
  }
 },
 "nbformat": 4,
 "nbformat_minor": 2
}
