{
 "cells": [
  {
   "cell_type": "markdown",
   "metadata": {},
   "source": [
    "# Tennis players"
   ]
  },
  {
   "cell_type": "code",
   "execution_count": 153,
   "metadata": {},
   "outputs": [],
   "source": [
    "# Import \n",
    "import pandas as pd \n",
    "import os \n",
    "import sys\n",
    "\n",
    "sys.path.append(os.path.abspath(\"..\"))"
   ]
  },
  {
   "cell_type": "markdown",
   "metadata": {},
   "source": [
    "The raw data is available because I have already run the `download_atp_odds` and `download_atp` functions from `fetch_data.py`."
   ]
  },
  {
   "cell_type": "code",
   "execution_count": null,
   "metadata": {},
   "outputs": [
    {
     "name": "stdout",
     "output_type": "stream",
     "text": [
      "Number of rows:  ATP: 74906 ,  Odds: 63739\n"
     ]
    },
    {
     "name": "stderr",
     "output_type": "stream",
     "text": [
      "C:\\Users\\admin\\AppData\\Local\\Temp\\ipykernel_31388\\3299882138.py:3: DtypeWarning: Columns (12,15,16,17,18,38) have mixed types. Specify dtype option on import or set low_memory=False.\n",
      "  odds_df = pd.read_csv(\"../data/raw/atp_odds_2001_2024/all_from_2001_to_2024.csv\")\n"
     ]
    }
   ],
   "source": [
    "# Read the raw data\n",
    "atp_df = pd.read_csv(\"../data_storage/raw/atp_men_2000_2024/all_from_2000_to_2024.csv\")\n",
    "odds_df = pd.read_csv(\"../data_storage/raw/atp_odds_2001_2024/all_from_2001_to_2024.csv\")\n",
    "\n",
    "# We will merge the dataframes based on their date and the names of the two players\n",
    "# Therefore, I will ensure that the relevant features have the same names\n",
    "atp_df = atp_df.rename(columns={\"tourney_date\": \"date\", \"winner_name\": \"winner\", \"loser_name\": \"loser\"})\n",
    "odds_df = odds_df.rename(columns={\"Date\": \"date\", \"Winner\": \"winner\", \"Loser\": \"loser\"})\n",
    "\n",
    "# The odds data contains many features that we will not use in the future\n",
    "odds_df = odds_df[[\"date\", \"winner\", \"loser\", \"Surface\", \"Wsets\", \"Lsets\", \"WRank\", \"LRank\", \"B365W\", \"B365L\"]]\n",
    "print(f\"Number of rows:  ATP: {len(atp_df)} ,  Odds: {len(odds_df)}\")"
   ]
  },
  {
   "cell_type": "markdown",
   "metadata": {},
   "source": [
    "## Merge ATP player data with their odds data\n"
   ]
  },
  {
   "cell_type": "code",
   "execution_count": null,
   "metadata": {},
   "outputs": [
    {
     "name": "stderr",
     "output_type": "stream",
     "text": [
      "Merge players data with there match odds: 100%|██████████| 63739/63739 [00:02<00:00, 22939.88it/s]\n"
     ]
    },
    {
     "name": "stdout",
     "output_type": "stream",
     "text": [
      "Save merged tennis players stats\n",
      "Size of merged dataframe 12598\n"
     ]
    }
   ],
   "source": [
    "from src.utils import merge_players_data\n",
    "from importlib import reload\n",
    "reload(merge_players_data)\n",
    "\n",
    "df = merge_players_data.merge_on_name_and_date(atp_df, odds_df)\n",
    "df.to_csv(\"../data_storage/raw/merged_data/merge_atp_odds.csv\", index=False)\n",
    "print(\"Save merged tennis players stats\")\n",
    "print(f\"Size of merged dataframe {len(df)}\")\n"
   ]
  },
  {
   "cell_type": "markdown",
   "metadata": {},
   "source": [
    "## Handle missing values\n",
    "Logic which will manage the missing values are in the `src/utils/data_utils.py` file "
   ]
  },
  {
   "cell_type": "code",
   "execution_count": null,
   "metadata": {},
   "outputs": [
    {
     "name": "stdout",
     "output_type": "stream",
     "text": [
      "[INFO] Droping features Index(['winner_seed', 'winner_entry', 'loser_seed', 'loser_entry'], dtype='object')\n",
      "[INFO] Columns which will be filled with there median: Index(['unnamed: 0', 'draw_size', 'match_num', 'winner_id', 'winner_ht',\n",
      "       'winner_age', 'loser_id', 'loser_ht', 'loser_age', 'best_of', 'minutes',\n",
      "       'w_ace', 'w_df', 'w_svpt', 'w_1stin', 'w_1stwon', 'w_2ndwon', 'w_svgms',\n",
      "       'w_bpsaved', 'w_bpfaced', 'l_ace', 'l_df', 'l_svpt', 'l_1stin',\n",
      "       'l_1stwon', 'l_2ndwon', 'l_svgms', 'l_bpsaved', 'l_bpfaced',\n",
      "       'winner_rank', 'winner_rank_points', 'loser_rank', 'loser_rank_points',\n",
      "       'wsets', 'lsets', 'wrank'],\n",
      "      dtype='object')\n"
     ]
    },
    {
     "data": {
      "text/plain": [
       "winner_key     356\n",
       "loser_key      338\n",
       "lrank           24\n",
       "b365w         4464\n",
       "b365l         4461\n",
       "dtype: int64"
      ]
     },
     "execution_count": 171,
     "metadata": {},
     "output_type": "execute_result"
    }
   ],
   "source": [
    "from src.utils import data_utils\n",
    "from importlib import reload\n",
    "reload(data_utils)\n",
    "\n",
    "# Drop the features if it's a rational reaches the threshold\n",
    "df = data_utils.drop_hight_na_columns(df=df)\n",
    "# Fill the missing values with there median if the ration is equal or lower then 3%\n",
    "df = data_utils.fill_na_median(df)\n",
    "\n",
    "# Print out the missing values\n",
    "df.isna().sum()[df.isna().sum() > 0]"
   ]
  },
  {
   "cell_type": "markdown",
   "metadata": {},
   "source": [
    "## Convert feature data types\n",
    "There are still missing values in the merged data, but that I will keep as it is so that I can have a closer look on them in the EDA file\n"
   ]
  },
  {
   "cell_type": "code",
   "execution_count": null,
   "metadata": {},
   "outputs": [
    {
     "name": "stdout",
     "output_type": "stream",
     "text": [
      "Data save into the interim folder for feather checks. Number of rows: 12598\n"
     ]
    }
   ],
   "source": [
    "df.to_csv(\"../data_storage/interim/interim_data.csv\", index=False)\n",
    "print(f\"Data save into the interim folder for feather checks. Number of rows: {len(df)}\")"
   ]
  }
 ],
 "metadata": {
  "kernelspec": {
   "display_name": "venv",
   "language": "python",
   "name": "python3"
  },
  "language_info": {
   "codemirror_mode": {
    "name": "ipython",
    "version": 3
   },
   "file_extension": ".py",
   "mimetype": "text/x-python",
   "name": "python",
   "nbconvert_exporter": "python",
   "pygments_lexer": "ipython3",
   "version": "3.11.5"
  }
 },
 "nbformat": 4,
 "nbformat_minor": 2
}
