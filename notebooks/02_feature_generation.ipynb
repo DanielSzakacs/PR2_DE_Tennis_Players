{
 "cells": [
  {
   "cell_type": "markdown",
   "metadata": {},
   "source": [
    " # Feature Generation\n",
    " Based on the avaliable features I will create new ones"
   ]
  },
  {
   "cell_type": "code",
   "execution_count": 39,
   "metadata": {},
   "outputs": [],
   "source": [
    "from importlib import reload"
   ]
  },
  {
   "cell_type": "code",
   "execution_count": 40,
   "metadata": {},
   "outputs": [],
   "source": [
    "from src.data import load_data\n",
    "reload(load_data)\n",
    "\n",
    "# Import interim data\n",
    "df = load_data.load_interim_data()"
   ]
  },
  {
   "cell_type": "code",
   "execution_count": 45,
   "metadata": {},
   "outputs": [
    {
     "data": {
      "text/plain": [
       "Index(['unnamed: 0', 'tourney_id', 'tourney_name', 'surface_df1', 'draw_size',\n",
       "       'tourney_level', 'date', 'match_num', 'winner_id', 'winner_df1',\n",
       "       'winner_hand', 'winner_ht', 'winner_ioc', 'winner_age', 'loser_id',\n",
       "       'loser_df1', 'loser_hand', 'loser_ht', 'loser_ioc', 'loser_age',\n",
       "       'score', 'best_of', 'round', 'minutes', 'w_ace', 'w_df', 'w_svpt',\n",
       "       'w_1stin', 'w_1stwon', 'w_2ndwon', 'w_svgms', 'w_bpsaved', 'w_bpfaced',\n",
       "       'l_ace', 'l_df', 'l_svpt', 'l_1stin', 'l_1stwon', 'l_2ndwon', 'l_svgms',\n",
       "       'l_bpsaved', 'l_bpfaced', 'winner_rank', 'winner_rank_points',\n",
       "       'loser_rank', 'loser_rank_points', 'winner_key', 'loser_key',\n",
       "       'winner_df2', 'loser_df2', 'surface_df2', 'location', 'tournament',\n",
       "       'series', 'court', 'wsets', 'lsets', 'wrank', 'lrank', 'b365w',\n",
       "       'b365l'],\n",
       "      dtype='object')"
      ]
     },
     "execution_count": 45,
     "metadata": {},
     "output_type": "execute_result"
    }
   ],
   "source": [
    "df.columns"
   ]
  },
  {
   "cell_type": "code",
   "execution_count": 48,
   "metadata": {},
   "outputs": [
    {
     "data": {
      "text/plain": [
       "w_df         0\n",
       "w_svpt       0\n",
       "w_ace        0\n",
       "w_1stwon     0\n",
       "w_2ndwon     0\n",
       "l_1stwon     0\n",
       "l_2ndwon     0\n",
       "l_svpt       0\n",
       "w_bpsaved    0\n",
       "w_bpfaced    0\n",
       "l_df         0\n",
       "l_ace        0\n",
       "l_bpsaved    0\n",
       "l_bpfaced    0\n",
       "dtype: int64"
      ]
     },
     "execution_count": 48,
     "metadata": {},
     "output_type": "execute_result"
    }
   ],
   "source": [
    "cols = [\n",
    "  \"w_df\", \"w_svpt\", \"w_ace\", \"w_1stwon\", \"w_2ndwon\",\n",
    "  \"l_1stwon\", \"l_2ndwon\", \"l_svpt\", \"w_bpsaved\",\n",
    "  \"w_bpfaced\", \"l_df\", \"l_ace\", \"l_bpsaved\", \"l_bpfaced\"\n",
    "]\n",
    "\n",
    "df[cols].isna().sum()"
   ]
  },
  {
   "cell_type": "code",
   "execution_count": 44,
   "metadata": {},
   "outputs": [
    {
     "name": "stdout",
     "output_type": "stream",
     "text": [
      "'unnamed: 0'\n",
      "'tourney_id'\n",
      "'tourney_name'\n",
      "'surface_df1'\n",
      "'draw_size'\n",
      "'tourney_level'\n",
      "'date'\n",
      "'match_num'\n",
      "'winner_id'\n",
      "'winner_df1'\n",
      "'winner_hand'\n",
      "'winner_ht'\n",
      "'winner_ioc'\n",
      "'winner_age'\n",
      "'loser_id'\n",
      "'loser_df1'\n",
      "'loser_hand'\n",
      "'loser_ht'\n",
      "'loser_ioc'\n",
      "'loser_age'\n",
      "'score'\n",
      "'best_of'\n",
      "'round'\n",
      "'minutes'\n",
      "'w_ace'\n",
      "'w_df'\n",
      "'w_svpt'\n",
      "'w_1stin'\n",
      "'w_1stwon'\n",
      "'w_2ndwon'\n",
      "'w_svgms'\n",
      "'w_bpsaved'\n",
      "'w_bpfaced'\n",
      "'l_ace'\n",
      "'l_df'\n",
      "'l_svpt'\n",
      "'l_1stin'\n",
      "'l_1stwon'\n",
      "'l_2ndwon'\n",
      "'l_svgms'\n",
      "'l_bpsaved'\n",
      "'l_bpfaced'\n",
      "'winner_rank'\n",
      "'winner_rank_points'\n",
      "'loser_rank'\n",
      "'loser_rank_points'\n",
      "'winner_key'\n",
      "'loser_key'\n",
      "'winner_df2'\n",
      "'loser_df2'\n",
      "'surface_df2'\n",
      "'location'\n",
      "'tournament'\n",
      "'series'\n",
      "'court'\n",
      "'wsets'\n",
      "'lsets'\n",
      "'wrank'\n",
      "'lrank'\n",
      "'b365w'\n",
      "'b365l'\n"
     ]
    }
   ],
   "source": [
    "for col in df.columns:\n",
    "    print(repr(col))"
   ]
  },
  {
   "cell_type": "code",
   "execution_count": 46,
   "metadata": {},
   "outputs": [
    {
     "data": {
      "text/plain": [
       "0         6.0\n",
       "1        10.0\n",
       "2        10.0\n",
       "3         1.0\n",
       "4        14.0\n",
       "         ... \n",
       "12593     5.0\n",
       "12594     3.0\n",
       "12595     8.0\n",
       "12596     5.0\n",
       "12597     9.0\n",
       "Name: w_ace, Length: 12598, dtype: float64"
      ]
     },
     "execution_count": 46,
     "metadata": {},
     "output_type": "execute_result"
    }
   ],
   "source": [
    "df[\"w_ace\"]"
   ]
  },
  {
   "cell_type": "code",
   "execution_count": null,
   "metadata": {},
   "outputs": [],
   "source": []
  }
 ],
 "metadata": {
  "kernelspec": {
   "display_name": "venv",
   "language": "python",
   "name": "python3"
  },
  "language_info": {
   "codemirror_mode": {
    "name": "ipython",
    "version": 3
   },
   "file_extension": ".py",
   "mimetype": "text/x-python",
   "name": "python",
   "nbconvert_exporter": "python",
   "pygments_lexer": "ipython3",
   "version": "3.11.5"
  }
 },
 "nbformat": 4,
 "nbformat_minor": 2
}
