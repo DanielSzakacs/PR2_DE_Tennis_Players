{
 "cells": [
  {
   "cell_type": "markdown",
   "metadata": {},
   "source": [
    " # Feature Generation\n",
    " Based on the avaliable features I will create new ones"
   ]
  },
  {
   "cell_type": "code",
   "execution_count": 148,
   "metadata": {},
   "outputs": [
    {
     "data": {
      "text/plain": [
       "<module 'src.data.load_data' from 'c:\\\\Users\\\\admin\\\\Documents\\\\ML - Projects\\\\PR2_DE_Tennis_Players\\\\src\\\\data\\\\load_data.py'>"
      ]
     },
     "execution_count": 148,
     "metadata": {},
     "output_type": "execute_result"
    }
   ],
   "source": [
    "from importlib import reload\n",
    "from src.features import build_features\n",
    "from src.data import load_data\n",
    "import os \n",
    "import sys\n",
    "\n",
    "sys.path.append(os.path.abspath(\"..\"))\n",
    "reload(build_features)\n",
    "reload(load_data)\n"
   ]
  },
  {
   "cell_type": "code",
   "execution_count": 149,
   "metadata": {},
   "outputs": [],
   "source": [
    "# Import interim data\n",
    "df = load_data.load_interim_data()"
   ]
  },
  {
   "cell_type": "markdown",
   "metadata": {},
   "source": [
    "## Generate new statistical features\n"
   ]
  },
  {
   "cell_type": "code",
   "execution_count": 150,
   "metadata": {},
   "outputs": [
    {
     "name": "stdout",
     "output_type": "stream",
     "text": [
      "[INFO] Create statistical features on the def. Def length: 12598. Number of cols: 61\n",
      "[INFO] Remove Nan colums from the key features. Def length: 12598\n",
      "[INFO] New statustical features created successfully. Number of cols: 69\n"
     ]
    }
   ],
   "source": [
    "df = build_features.create_statistical_features(df)"
   ]
  },
  {
   "cell_type": "markdown",
   "metadata": {},
   "source": [
    "## Split winner and loser players from each other"
   ]
  },
  {
   "cell_type": "code",
   "execution_count": 151,
   "metadata": {},
   "outputs": [
    {
     "data": {
      "text/html": [
       "<div>\n",
       "<style scoped>\n",
       "    .dataframe tbody tr th:only-of-type {\n",
       "        vertical-align: middle;\n",
       "    }\n",
       "\n",
       "    .dataframe tbody tr th {\n",
       "        vertical-align: top;\n",
       "    }\n",
       "\n",
       "    .dataframe thead th {\n",
       "        text-align: right;\n",
       "    }\n",
       "</style>\n",
       "<table border=\"1\" class=\"dataframe\">\n",
       "  <thead>\n",
       "    <tr style=\"text-align: right;\">\n",
       "      <th></th>\n",
       "      <th>winner_rank</th>\n",
       "      <th>wrank</th>\n",
       "    </tr>\n",
       "  </thead>\n",
       "  <tbody>\n",
       "    <tr>\n",
       "      <th>0</th>\n",
       "      <td>122.0</td>\n",
       "      <td>122.0</td>\n",
       "    </tr>\n",
       "    <tr>\n",
       "      <th>1</th>\n",
       "      <td>42.0</td>\n",
       "      <td>42.0</td>\n",
       "    </tr>\n",
       "    <tr>\n",
       "      <th>2</th>\n",
       "      <td>16.0</td>\n",
       "      <td>16.0</td>\n",
       "    </tr>\n",
       "    <tr>\n",
       "      <th>3</th>\n",
       "      <td>137.0</td>\n",
       "      <td>137.0</td>\n",
       "    </tr>\n",
       "    <tr>\n",
       "      <th>4</th>\n",
       "      <td>126.0</td>\n",
       "      <td>126.0</td>\n",
       "    </tr>\n",
       "    <tr>\n",
       "      <th>...</th>\n",
       "      <td>...</td>\n",
       "      <td>...</td>\n",
       "    </tr>\n",
       "    <tr>\n",
       "      <th>12593</th>\n",
       "      <td>57.0</td>\n",
       "      <td>57.0</td>\n",
       "    </tr>\n",
       "    <tr>\n",
       "      <th>12594</th>\n",
       "      <td>84.0</td>\n",
       "      <td>84.0</td>\n",
       "    </tr>\n",
       "    <tr>\n",
       "      <th>12595</th>\n",
       "      <td>78.0</td>\n",
       "      <td>78.0</td>\n",
       "    </tr>\n",
       "    <tr>\n",
       "      <th>12596</th>\n",
       "      <td>7.0</td>\n",
       "      <td>7.0</td>\n",
       "    </tr>\n",
       "    <tr>\n",
       "      <th>12597</th>\n",
       "      <td>2.0</td>\n",
       "      <td>2.0</td>\n",
       "    </tr>\n",
       "  </tbody>\n",
       "</table>\n",
       "<p>12598 rows × 2 columns</p>\n",
       "</div>"
      ],
      "text/plain": [
       "       winner_rank  wrank\n",
       "0            122.0  122.0\n",
       "1             42.0   42.0\n",
       "2             16.0   16.0\n",
       "3            137.0  137.0\n",
       "4            126.0  126.0\n",
       "...            ...    ...\n",
       "12593         57.0   57.0\n",
       "12594         84.0   84.0\n",
       "12595         78.0   78.0\n",
       "12596          7.0    7.0\n",
       "12597          2.0    2.0\n",
       "\n",
       "[12598 rows x 2 columns]"
      ]
     },
     "execution_count": 151,
     "metadata": {},
     "output_type": "execute_result"
    }
   ],
   "source": [
    "df[[\"winner_rank\", \"wrank\"]]"
   ]
  },
  {
   "cell_type": "code",
   "execution_count": 152,
   "metadata": {},
   "outputs": [
    {
     "data": {
      "text/html": [
       "<div>\n",
       "<style scoped>\n",
       "    .dataframe tbody tr th:only-of-type {\n",
       "        vertical-align: middle;\n",
       "    }\n",
       "\n",
       "    .dataframe tbody tr th {\n",
       "        vertical-align: top;\n",
       "    }\n",
       "\n",
       "    .dataframe thead th {\n",
       "        text-align: right;\n",
       "    }\n",
       "</style>\n",
       "<table border=\"1\" class=\"dataframe\">\n",
       "  <thead>\n",
       "    <tr style=\"text-align: right;\">\n",
       "      <th></th>\n",
       "      <th>unnamed: 0</th>\n",
       "      <th>tourney_id</th>\n",
       "      <th>tourney_name</th>\n",
       "      <th>surface_df1</th>\n",
       "      <th>draw_size</th>\n",
       "      <th>tourney_level</th>\n",
       "      <th>date</th>\n",
       "      <th>match_num</th>\n",
       "      <th>winner_id</th>\n",
       "      <th>winner_df1</th>\n",
       "      <th>...</th>\n",
       "      <th>b365w</th>\n",
       "      <th>b365l</th>\n",
       "      <th>p1_dfp</th>\n",
       "      <th>p1_a</th>\n",
       "      <th>p1_dr</th>\n",
       "      <th>p1_bpsvd</th>\n",
       "      <th>p2_dfp</th>\n",
       "      <th>p2_a</th>\n",
       "      <th>p2_dr</th>\n",
       "      <th>p2_bpsvd</th>\n",
       "    </tr>\n",
       "  </thead>\n",
       "  <tbody>\n",
       "    <tr>\n",
       "      <th>0</th>\n",
       "      <td>3378</td>\n",
       "      <td>2001-891</td>\n",
       "      <td>Chennai</td>\n",
       "      <td>Hard</td>\n",
       "      <td>32</td>\n",
       "      <td>A</td>\n",
       "      <td>2001-01-01</td>\n",
       "      <td>23</td>\n",
       "      <td>102911</td>\n",
       "      <td>Andrei Stoliarov</td>\n",
       "      <td>...</td>\n",
       "      <td>NaN</td>\n",
       "      <td>NaN</td>\n",
       "      <td>6.250000</td>\n",
       "      <td>9.375000</td>\n",
       "      <td>1.290000</td>\n",
       "      <td>100.000000</td>\n",
       "      <td>4.166667</td>\n",
       "      <td>6.250000</td>\n",
       "      <td>0.775194</td>\n",
       "      <td>50.000000</td>\n",
       "    </tr>\n",
       "    <tr>\n",
       "      <th>1</th>\n",
       "      <td>3446</td>\n",
       "      <td>2001-891</td>\n",
       "      <td>Chennai</td>\n",
       "      <td>Hard</td>\n",
       "      <td>32</td>\n",
       "      <td>A</td>\n",
       "      <td>2001-01-01</td>\n",
       "      <td>4</td>\n",
       "      <td>102259</td>\n",
       "      <td>Jerome Golmard</td>\n",
       "      <td>...</td>\n",
       "      <td>NaN</td>\n",
       "      <td>NaN</td>\n",
       "      <td>8.411215</td>\n",
       "      <td>9.345794</td>\n",
       "      <td>1.081442</td>\n",
       "      <td>60.000000</td>\n",
       "      <td>1.851852</td>\n",
       "      <td>5.555556</td>\n",
       "      <td>0.924691</td>\n",
       "      <td>43.750000</td>\n",
       "    </tr>\n",
       "    <tr>\n",
       "      <th>2</th>\n",
       "      <td>3445</td>\n",
       "      <td>2001-891</td>\n",
       "      <td>Chennai</td>\n",
       "      <td>Hard</td>\n",
       "      <td>32</td>\n",
       "      <td>A</td>\n",
       "      <td>2001-01-01</td>\n",
       "      <td>5</td>\n",
       "      <td>101611</td>\n",
       "      <td>Cedric Pioline</td>\n",
       "      <td>...</td>\n",
       "      <td>NaN</td>\n",
       "      <td>NaN</td>\n",
       "      <td>2.439024</td>\n",
       "      <td>12.195122</td>\n",
       "      <td>1.079268</td>\n",
       "      <td>57.142857</td>\n",
       "      <td>3.333333</td>\n",
       "      <td>17.777778</td>\n",
       "      <td>0.926554</td>\n",
       "      <td>50.000000</td>\n",
       "    </tr>\n",
       "    <tr>\n",
       "      <th>3</th>\n",
       "      <td>3444</td>\n",
       "      <td>2001-891</td>\n",
       "      <td>Chennai</td>\n",
       "      <td>Hard</td>\n",
       "      <td>32</td>\n",
       "      <td>A</td>\n",
       "      <td>2001-01-01</td>\n",
       "      <td>6</td>\n",
       "      <td>101086</td>\n",
       "      <td>Ronald Agenor</td>\n",
       "      <td>...</td>\n",
       "      <td>NaN</td>\n",
       "      <td>NaN</td>\n",
       "      <td>1.886792</td>\n",
       "      <td>1.886792</td>\n",
       "      <td>1.332366</td>\n",
       "      <td>66.666667</td>\n",
       "      <td>3.703704</td>\n",
       "      <td>5.555556</td>\n",
       "      <td>0.750545</td>\n",
       "      <td>61.538462</td>\n",
       "    </tr>\n",
       "    <tr>\n",
       "      <th>4</th>\n",
       "      <td>3443</td>\n",
       "      <td>2001-891</td>\n",
       "      <td>Chennai</td>\n",
       "      <td>Hard</td>\n",
       "      <td>32</td>\n",
       "      <td>A</td>\n",
       "      <td>2001-01-01</td>\n",
       "      <td>8</td>\n",
       "      <td>102817</td>\n",
       "      <td>Edwin Kempes</td>\n",
       "      <td>...</td>\n",
       "      <td>NaN</td>\n",
       "      <td>NaN</td>\n",
       "      <td>3.883495</td>\n",
       "      <td>13.592233</td>\n",
       "      <td>1.048004</td>\n",
       "      <td>66.666667</td>\n",
       "      <td>3.448276</td>\n",
       "      <td>11.494253</td>\n",
       "      <td>0.954195</td>\n",
       "      <td>50.000000</td>\n",
       "    </tr>\n",
       "  </tbody>\n",
       "</table>\n",
       "<p>5 rows × 69 columns</p>\n",
       "</div>"
      ],
      "text/plain": [
       "   unnamed: 0 tourney_id tourney_name surface_df1  draw_size tourney_level  \\\n",
       "0        3378   2001-891      Chennai        Hard         32             A   \n",
       "1        3446   2001-891      Chennai        Hard         32             A   \n",
       "2        3445   2001-891      Chennai        Hard         32             A   \n",
       "3        3444   2001-891      Chennai        Hard         32             A   \n",
       "4        3443   2001-891      Chennai        Hard         32             A   \n",
       "\n",
       "        date  match_num  winner_id        winner_df1  ... b365w  b365l  \\\n",
       "0 2001-01-01         23     102911  Andrei Stoliarov  ...   NaN    NaN   \n",
       "1 2001-01-01          4     102259    Jerome Golmard  ...   NaN    NaN   \n",
       "2 2001-01-01          5     101611    Cedric Pioline  ...   NaN    NaN   \n",
       "3 2001-01-01          6     101086     Ronald Agenor  ...   NaN    NaN   \n",
       "4 2001-01-01          8     102817      Edwin Kempes  ...   NaN    NaN   \n",
       "\n",
       "     p1_dfp       p1_a     p1_dr    p1_bpsvd    p2_dfp       p2_a     p2_dr  \\\n",
       "0  6.250000   9.375000  1.290000  100.000000  4.166667   6.250000  0.775194   \n",
       "1  8.411215   9.345794  1.081442   60.000000  1.851852   5.555556  0.924691   \n",
       "2  2.439024  12.195122  1.079268   57.142857  3.333333  17.777778  0.926554   \n",
       "3  1.886792   1.886792  1.332366   66.666667  3.703704   5.555556  0.750545   \n",
       "4  3.883495  13.592233  1.048004   66.666667  3.448276  11.494253  0.954195   \n",
       "\n",
       "    p2_bpsvd  \n",
       "0  50.000000  \n",
       "1  43.750000  \n",
       "2  50.000000  \n",
       "3  61.538462  \n",
       "4  50.000000  \n",
       "\n",
       "[5 rows x 69 columns]"
      ]
     },
     "execution_count": 152,
     "metadata": {},
     "output_type": "execute_result"
    }
   ],
   "source": [
    "df.head()"
   ]
  },
  {
   "cell_type": "code",
   "execution_count": 153,
   "metadata": {},
   "outputs": [
    {
     "name": "stdout",
     "output_type": "stream",
     "text": [
      "[INFO] Remove all the Nan values\n",
      "[INFO] Split winner and loser\n",
      "[INFO] Number of winners: 12598\n",
      "[INFO] Number of losers: 12598\n",
      "[INFO] Number of players afther merge: 25196\n"
     ]
    }
   ],
   "source": [
    "players_df = build_features.split_players_per_game(df)"
   ]
  },
  {
   "cell_type": "markdown",
   "metadata": {},
   "source": [
    "## Create rolling features"
   ]
  },
  {
   "cell_type": "code",
   "execution_count": 154,
   "metadata": {},
   "outputs": [
    {
     "data": {
      "text/plain": [
       "Index(['unnamed: 0', 'tourney_id', 'tourney_name', 'surface_df1', 'draw_size',\n",
       "       'tourney_level', 'date', 'match_num', 'winner_id', 'winner_df1',\n",
       "       'winner_hand', 'winner_ht', 'winner_ioc', 'winner_age', 'loser_id',\n",
       "       'loser_df1', 'loser_hand', 'loser_ht', 'loser_ioc', 'loser_age',\n",
       "       'score', 'best_of', 'round', 'minutes', 'w_ace', 'w_df', 'w_svpt',\n",
       "       'w_1stin', 'w_1stwon', 'w_2ndwon', 'w_svgms', 'w_bpsaved', 'w_bpfaced',\n",
       "       'l_ace', 'l_df', 'l_svpt', 'l_1stin', 'l_1stwon', 'l_2ndwon', 'l_svgms',\n",
       "       'l_bpsaved', 'l_bpfaced', 'winner_rank', 'winner_rank_points',\n",
       "       'loser_rank', 'loser_rank_points', 'winner_key', 'loser_key',\n",
       "       'winner_df2', 'loser_df2', 'surface_df2', 'location', 'tournament',\n",
       "       'series', 'court', 'wsets', 'lsets', 'wrank', 'lrank', 'b365w', 'b365l',\n",
       "       'p1_dfp', 'p1_a', 'p1_dr', 'p1_bpsvd', 'p2_dfp', 'p2_a', 'p2_dr',\n",
       "       'p2_bpsvd'],\n",
       "      dtype='object')"
      ]
     },
     "execution_count": 154,
     "metadata": {},
     "output_type": "execute_result"
    }
   ],
   "source": [
    "df.columns"
   ]
  },
  {
   "cell_type": "code",
   "execution_count": 155,
   "metadata": {},
   "outputs": [],
   "source": [
    "players_df = build_features.create_rolling_features(players_df, \"dfp_double_fault_rate\", 5)\n",
    "players_df = build_features.create_rolling_features(players_df, \"dfp_double_fault_rate\", 10, True)\n",
    "\n",
    "players_df = build_features.create_rolling_features(players_df, \"a_ace_rate\", 5)\n",
    "players_df = build_features.create_rolling_features(players_df, \"a_ace_rate\", 10, True)\n",
    "\n",
    "players_df = build_features.create_rolling_features(players_df, \"d_dominance_ratio\", 5)\n",
    "players_df = build_features.create_rolling_features(players_df, \"d_dominance_ratio\", 10, True)\n",
    "\n",
    "players_df = build_features.create_rolling_features(players_df, \"bpsvd_break_point_opp_saved\", 5)\n",
    "players_df = build_features.create_rolling_features(players_df, \"bpsvd_break_point_opp_saved\", 10, True)\n",
    "\n",
    "players_df = build_features.create_rolling_features(players_df, \"is_winner\", 5)\n",
    "players_df = build_features.create_rolling_features(players_df, \"is_winner\", 10)\n",
    "\n",
    "players_df = build_features.create_rolling_features(players_df, \"ranking\", 5)\n",
    "players_df = build_features.create_rolling_features(players_df, \"ranking\", 10)"
   ]
  },
  {
   "cell_type": "code",
   "execution_count": null,
   "metadata": {},
   "outputs": [],
   "source": []
  }
 ],
 "metadata": {
  "kernelspec": {
   "display_name": "venv",
   "language": "python",
   "name": "python3"
  },
  "language_info": {
   "codemirror_mode": {
    "name": "ipython",
    "version": 3
   },
   "file_extension": ".py",
   "mimetype": "text/x-python",
   "name": "python",
   "nbconvert_exporter": "python",
   "pygments_lexer": "ipython3",
   "version": "3.11.5"
  }
 },
 "nbformat": 4,
 "nbformat_minor": 2
}
