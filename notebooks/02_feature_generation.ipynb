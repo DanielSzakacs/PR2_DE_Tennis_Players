{
 "cells": [
  {
   "cell_type": "markdown",
   "metadata": {},
   "source": [
    " # Feature Generation\n",
    " Based on the avaliable features I will create new ones"
   ]
  },
  {
   "cell_type": "code",
   "execution_count": 105,
   "metadata": {},
   "outputs": [
    {
     "data": {
      "text/plain": [
       "<module 'src.data.load_data' from 'c:\\\\Users\\\\admin\\\\Documents\\\\ML - Projects\\\\PR2_DE_Tennis_Players\\\\src\\\\data\\\\load_data.py'>"
      ]
     },
     "execution_count": 105,
     "metadata": {},
     "output_type": "execute_result"
    }
   ],
   "source": [
    "from importlib import reload\n",
    "from src.features import build_features\n",
    "from src.data import load_data\n",
    "import os \n",
    "import sys\n",
    "\n",
    "sys.path.append(os.path.abspath(\"..\"))\n",
    "reload(build_features)\n",
    "reload(load_data)\n"
   ]
  },
  {
   "cell_type": "code",
   "execution_count": 106,
   "metadata": {},
   "outputs": [],
   "source": [
    "# Import interim data\n",
    "df = load_data.load_interim_data()"
   ]
  },
  {
   "cell_type": "markdown",
   "metadata": {},
   "source": [
    "## Generate new statistical features\n"
   ]
  },
  {
   "cell_type": "code",
   "execution_count": 107,
   "metadata": {},
   "outputs": [
    {
     "name": "stdout",
     "output_type": "stream",
     "text": [
      "[INFO] Create statistical features on the def. Def length: 12598. Number of cols: 61\n",
      "[INFO] Remove Nan colums from the key features. Def length: 12598\n",
      "[INFO] New statustical features created successfully. Number of cols: 69\n"
     ]
    }
   ],
   "source": [
    "df = build_features.create_statistical_features(df)"
   ]
  },
  {
   "cell_type": "markdown",
   "metadata": {},
   "source": [
    "## Split winner and loser players from each other"
   ]
  },
  {
   "cell_type": "code",
   "execution_count": 108,
   "metadata": {},
   "outputs": [
    {
     "name": "stdout",
     "output_type": "stream",
     "text": [
      "winner_key     356\n",
      "loser_key      338\n",
      "lrank           24\n",
      "b365w         4464\n",
      "b365l         4461\n",
      "p1_dfp           1\n",
      "p1_a             1\n",
      "p1_dr            2\n",
      "p1_bpsvd      1059\n",
      "p2_dfp           1\n",
      "p2_a             1\n",
      "p2_dr            2\n",
      "p2_bpsvd        24\n",
      "dtype: int64\n"
     ]
    }
   ],
   "source": [
    "print(df.isna().sum()[df.isna().sum() > 0])"
   ]
  },
  {
   "cell_type": "code",
   "execution_count": 109,
   "metadata": {},
   "outputs": [
    {
     "name": "stdout",
     "output_type": "stream",
     "text": [
      "[INFO] Remove all the Nan values\n",
      "[INFO] Split winner and loser\n",
      "[INFO] Number of winners: 12598\n",
      "[INFO] Number of losers: 12598\n",
      "[INFO] Number of players afther merge: 25196\n"
     ]
    }
   ],
   "source": [
    "players_df = build_features.split_players_per_game(df)"
   ]
  },
  {
   "cell_type": "markdown",
   "metadata": {},
   "source": [
    "## Create rolling features"
   ]
  },
  {
   "cell_type": "code",
   "execution_count": null,
   "metadata": {},
   "outputs": [],
   "source": []
  }
 ],
 "metadata": {
  "kernelspec": {
   "display_name": "venv",
   "language": "python",
   "name": "python3"
  },
  "language_info": {
   "codemirror_mode": {
    "name": "ipython",
    "version": 3
   },
   "file_extension": ".py",
   "mimetype": "text/x-python",
   "name": "python",
   "nbconvert_exporter": "python",
   "pygments_lexer": "ipython3",
   "version": "3.11.5"
  }
 },
 "nbformat": 4,
 "nbformat_minor": 2
}
